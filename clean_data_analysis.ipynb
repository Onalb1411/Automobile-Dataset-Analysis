{
 "cells": [
  {
   "cell_type": "markdown",
   "id": "noble-pulse",
   "metadata": {},
   "source": [
    "This data analysis file starts off from where the other left... We start by reading the clean data found<a href =\"data/cleandf1.csv\" > here </a>, then perfom further analysis as per the guidelines."
   ]
  },
  {
   "cell_type": "code",
   "execution_count": null,
   "id": "certified-macintosh",
   "metadata": {},
   "outputs": [],
   "source": []
  }
 ],
 "metadata": {
  "kernelspec": {
   "display_name": "Python 3",
   "language": "python",
   "name": "python3"
  },
  "language_info": {
   "codemirror_mode": {
    "name": "ipython",
    "version": 3
   },
   "file_extension": ".py",
   "mimetype": "text/x-python",
   "name": "python",
   "nbconvert_exporter": "python",
   "pygments_lexer": "ipython3",
   "version": "3.9.2"
  }
 },
 "nbformat": 4,
 "nbformat_minor": 5
}
